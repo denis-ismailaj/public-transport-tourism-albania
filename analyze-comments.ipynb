{
 "cells": [
  {
   "cell_type": "code",
   "outputs": [],
   "source": [
    "import json\n",
    "\n",
    "with open('comments.json', 'r') as f:\n",
    "    comments = json.load(f)\n",
    "\n",
    "comments"
   ],
   "metadata": {
    "collapsed": false
   },
   "id": "a5ef94febf22ab1a",
   "execution_count": null
  },
  {
   "cell_type": "code",
   "outputs": [],
   "source": [
    "import pandas as pd\n",
    "\n",
    "df = pd.DataFrame(comments)\n",
    "df"
   ],
   "metadata": {
    "collapsed": false
   },
   "id": "70ec5ad2ed5c0f48",
   "execution_count": null
  },
  {
   "cell_type": "code",
   "outputs": [],
   "source": [
    "%load_ext dotenv\n",
    "%dotenv\n",
    "\n",
    "from langchain_openai import ChatOpenAI\n",
    "\n",
    "llm = ChatOpenAI(model=\"gpt-3.5-turbo\", temperature=0)"
   ],
   "metadata": {
    "collapsed": false
   },
   "id": "1a1f99f8ba46e727"
  },
  {
   "cell_type": "code",
   "outputs": [],
   "source": [
    "from langchain_core.messages import HumanMessage, BaseMessage\n",
    "from typing import List\n",
    "\n",
    "prompt_template = \"\"\"\\\n",
    "\"{}\"\n",
    "\n",
    "The complaint above is written in Albanian.\n",
    "Does any part of it include any words related to public transport in Albanian, such as \"transporti publik\", \"autobuz\", \"furgon\", \"tren\", \"tramvaj\", etc...?\n",
    "\"\"\"\n",
    "\n",
    "def get_messages_for_long_answer(comment) -> List[BaseMessage]:\n",
    "    prompt = prompt_template.format(comment)\n",
    "    return [HumanMessage(prompt)]"
   ],
   "metadata": {
    "collapsed": true
   },
   "id": "initial_id",
   "execution_count": null
  },
  {
   "cell_type": "code",
   "outputs": [],
   "source": [
    "messages_for_long_answer = df['text'].apply(get_messages_for_long_answer)\n",
    "messages_for_long_answer"
   ],
   "metadata": {
    "collapsed": false
   },
   "id": "8df7db30adda3400",
   "execution_count": null
  },
  {
   "cell_type": "code",
   "outputs": [],
   "source": [
    "long_answers = llm.batch(list(messages_for_long_answer))\n",
    "long_answers"
   ],
   "metadata": {
    "collapsed": false
   },
   "id": "88f90e83b4ebbe30",
   "execution_count": null
  },
  {
   "cell_type": "code",
   "outputs": [],
   "source": [
    "summarization_message = HumanMessage(\"Summarize the above answer as just 'YES' or 'NO', don't use any punctuation or anything else.\")\n",
    "\n",
    "messages_for_final_answer = [\n",
    "    previous_messages + [long_answer, summarization_message]\n",
    "    for previous_messages, long_answer in zip(messages_for_long_answer, long_answers)\n",
    "]\n",
    "messages_for_final_answer"
   ],
   "metadata": {
    "collapsed": false
   },
   "id": "327176e1e9032840",
   "execution_count": null
  },
  {
   "cell_type": "code",
   "outputs": [],
   "source": [
    "from langchain.output_parsers import BooleanOutputParser\n",
    "\n",
    "final_answer_chain = llm | BooleanOutputParser()\n",
    "\n",
    "final_answers = final_answer_chain.batch(messages_for_final_answer)\n",
    "final_answers"
   ],
   "metadata": {
    "collapsed": false
   },
   "id": "f30027f5ec1c67f7",
   "execution_count": null
  },
  {
   "cell_type": "code",
   "outputs": [],
   "source": [
    "df['public_transport_related'] = final_answers  \n",
    "df"
   ],
   "metadata": {
    "collapsed": false
   },
   "id": "98e484d64f734ef0",
   "execution_count": null
  },
  {
   "cell_type": "code",
   "outputs": [],
   "source": [
    "df['n_replies'] = df['replies'].apply(len)\n",
    "df"
   ],
   "metadata": {
    "collapsed": false
   },
   "id": "be2479b1ae2a183e",
   "execution_count": null
  },
  {
   "cell_type": "code",
   "outputs": [],
   "source": [
    "n_total_comments = len(df) + sum(df['n_replies'])\n",
    "\n",
    "df_public_transport = df[df['public_transport_related'] == True]\n",
    "n_pt_comments = len(df_public_transport) + sum(df_public_transport['n_replies'])\n",
    "\n",
    "pt_percentage = round(n_pt_comments / n_total_comments * 100, 2)\n",
    "\n",
    "print(f\"Total comments: {n_total_comments}\")\n",
    "print(f\"Public transport related: {n_pt_comments} ({pt_percentage}%)\")"
   ],
   "metadata": {
    "collapsed": false
   },
   "id": "7b4bf934d0d83a58",
   "execution_count": null
  }
 ],
 "metadata": {
  "kernelspec": {
   "display_name": "Python 3",
   "language": "python",
   "name": "python3"
  },
  "language_info": {
   "codemirror_mode": {
    "name": "ipython",
    "version": 2
   },
   "file_extension": ".py",
   "mimetype": "text/x-python",
   "name": "python",
   "nbconvert_exporter": "python",
   "pygments_lexer": "ipython2",
   "version": "2.7.6"
  }
 },
 "nbformat": 4,
 "nbformat_minor": 5
}
